{
  "cells": [
    {
      "cell_type": "markdown",
      "metadata": {},
      "source": [
        "---\n",
        "title: \"Linear regression: debunking sexual selection\"\n",
        "format: gfm\n",
        "jupyter: python3\n",
        "---\n",
        "\n",
        "\n",
        "# Background to this example\n",
        "\n",
        "The [Irish deer *Megaloceros giganteus*](https://en.wikipedia.org/wiki/Irish_elk), formerly called the Irish elk, is one of the iconic members of the Ice Age fauna. Now extinct, it reached some 2.1 m shoulder height and it massive antlers spanned up to 3.6 m. In modern deer, large antlers and scary display of them predict a high success among femals and thus a high reproductive success. This is an example of **sexual selection**, through which mating \"decorations\" or behaviors undergo positive selection, even though they may have no other use in one sex other than impressing its potential mating partners. This must have appealed to the Victorian prudery and the \"survival of the sexiest\".\n",
        "\n",
        "![Irish elk skeleton from 1862, exhibited in Leeds City MuseumStorye book, CC BY-SA 4.0 <https://creativecommons.org/licenses/by-sa/4.0>, via Wikimedia Commons](../Img/512px-Leeds_City_Museum,_Irish_Elk.jpg){fig-alt=\"Irish elk skeleton from 1862, exhibited in Leeds City MuseumStorye book, CC BY-SA 4.0 <https://creativecommons.org/licenses/by-sa/4.0>, via Wikimedia Commons\"}\n",
        "\n",
        "Linear regression is how you can tell whether this spicy explanation is correct, as has been done by the evolutinonary biologist Steven J. Gould (1974). He measured the shoulder heights and antler lengths of deer species of various sizes and showed that they fell on\n",
        "a line that describes the relationship. The antler length for the Irish elk was exactly as predicted based on this relationship for smaller deer. Indeed, the Irish deer survived for tens of thousands of years with its giant antlers and fared well until the end of the Pleistocene. Like many animals of the Pleistocene megafauna, its extinstion is attributed to climate change and hunting by early humans. \n",
        "\n",
        "Can you replicate Gould's landmark study?\n",
        "\n",
        "## Code\n"
      ],
      "id": "549d5821"
    },
    {
      "cell_type": "code",
      "metadata": {},
      "source": [
        "import pandas as pd\n",
        "import matplotlib.pyplot as plt\n",
        "import statsmodels.formula.api as smf\n",
        "import numpy as np"
      ],
      "id": "9cad4ba3",
      "execution_count": null,
      "outputs": []
    },
    {
      "cell_type": "markdown",
      "metadata": {},
      "source": [
        "Gould (1974) didn't provide the dataset in his paper, which in 1974 is forgiveable. His study was replicated by Plard et al. (2011) who included a dataset in an appendix. This dataset has been converted to `csv` for you:\n"
      ],
      "id": "e15727d1"
    },
    {
      "cell_type": "code",
      "metadata": {},
      "source": [
        "antler_dataset = pd.read_csv('../Data/Antler_allometry.csv')"
      ],
      "id": "81d00295",
      "execution_count": null,
      "outputs": []
    },
    {
      "cell_type": "markdown",
      "metadata": {},
      "source": [
        "Preview the dataset:\n"
      ],
      "id": "891cb191"
    },
    {
      "cell_type": "code",
      "metadata": {},
      "source": [
        "antler_dataset.head()"
      ],
      "id": "4e89eebc",
      "execution_count": null,
      "outputs": []
    },
    {
      "cell_type": "markdown",
      "metadata": {},
      "source": [
        "Preview the bivariate distribution of the body mass and antler length:\n"
      ],
      "id": "b4aa66aa"
    },
    {
      "cell_type": "code",
      "metadata": {},
      "source": [
        "fig, ax = plt.subplots()\n",
        "ax.plot(antler_dataset.Male_body_mass, antler_dataset.Antler_length, '*')\n",
        "ax.set_ylabel('Antler length [mm]')\n",
        "ax.set_xlabel('Body mass [kg]')"
      ],
      "id": "f8e5e05e",
      "execution_count": null,
      "outputs": []
    },
    {
      "cell_type": "markdown",
      "metadata": {},
      "source": [
        "This plot doesn't look like a straight line, does it? Many variables, such as those related to surface and volume, grow as powers of the linear dimensions, e.g. the body mass tends to grow as the cube of the body length. Based on an understanding of how a variable scales, you could try different transformations, such as cube root of the body mass. But let's follow Gould's (1974) original approach and apply a log transformation. \n"
      ],
      "id": "17addc4b"
    },
    {
      "cell_type": "code",
      "metadata": {},
      "source": [
        "fig, ax = plt.subplots()\n",
        "ax.plot(np.log(antler_dataset.Male_body_mass), np.log(antler_dataset.Antler_length), '*')\n",
        "ax.set_ylabel('Log Antler length [mm]')\n",
        "ax.set_xlabel('Log Body mass [kg]')"
      ],
      "id": "43402118",
      "execution_count": null,
      "outputs": []
    },
    {
      "cell_type": "markdown",
      "metadata": {},
      "source": [
        "In this plot the log-transformed variables lie along a line, to which you can fit an ordinary least-squares (OLS) regression model using `pandas`:\n"
      ],
      "id": "5ac87604"
    },
    {
      "cell_type": "code",
      "metadata": {},
      "source": [
        "model_fit = smf.ols('np.log(Antler_length)~np.log(Male_body_mass)', antler_dataset).fit()\n",
        "print(model_fit.summary2())"
      ],
      "id": "849787ce",
      "execution_count": null,
      "outputs": []
    },
    {
      "cell_type": "markdown",
      "metadata": {},
      "source": [
        "## Exercises\n",
        "\n",
        "### Open Task 1: extract the regression equation\n",
        "\n",
        "Extract the slope and intercept of the regression line from the model summary and use the previous plot to overlie the fitted line using the extracted parameters. What is the equation of the regression line?\n",
        "\n",
        "### Open Task 2: Goodness of fit\n",
        "\n",
        "Extract the **coefficient of determination** from the model summary and place it in the corner of the plot. Does the linear model describe the dataset well? What values does the coefficient of determination take? \n",
        "\n",
        "### Open Task 3: Statistical test(s) of the model\n",
        "\n",
        "The model summary provides the p-values and 95% confidence intervals for the slope and the intercept of the regression line.\n",
        "\n",
        "1. What is the null hypothesis for the test of the slope? \n",
        "\n",
        "2. The confidence interval tells you whether you can reject the null hypothesis. What do you have to conclude in the interpretation of the results if the confidence interval includes zero?\n",
        "\n",
        "3. What is the null hypothesis in the test of the intercept? What do the confidence intervals tell you? Visualize the confidence intervals for the intercept on the plot.\n",
        "\n",
        "# References\n",
        "\n",
        "- Gould, S. J. (1974). The origin and function of'bizarre'structures: antler size and skull size in the'Irish Elk,'Megaloceros giganteus. Evolution, 191-220.\n",
        "\n",
        "- Plard, F., Bonenfant, C., & Gaillard, J. M. (2011). Revisiting the allometry of antlers among deer species: male–male sexual competition as a driver. Oikos, 120(4), 601-606."
      ],
      "id": "b2586786"
    }
  ],
  "metadata": {
    "kernelspec": {
      "display_name": "Python 3",
      "language": "python",
      "name": "python3"
    }
  },
  "nbformat": 4,
  "nbformat_minor": 5
}